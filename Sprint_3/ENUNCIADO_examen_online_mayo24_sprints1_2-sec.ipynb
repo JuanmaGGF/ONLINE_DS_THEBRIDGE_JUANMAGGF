{
 "cells": [
  {
   "cell_type": "markdown",
   "id": "1f1401c1-4dc9-4902-95bf-160715a42a25",
   "metadata": {},
   "source": [
    "# Prueba de Ramp-up"
   ]
  },
  {
   "cell_type": "markdown",
   "id": "1b34c670-a6dd-482d-9b04-5babee7be17a",
   "metadata": {},
   "source": [
    "Antes de comenzar, cambia el nombre del archivo notebook poniéndole delante tu nombre y primer apellido:\n",
    "\n",
    "* nombre_apellido_examen_online_sprint1_2.ipynb"
   ]
  },
  {
   "cell_type": "code",
   "execution_count": 1,
   "id": "c8d9a657-272c-425a-9ac4-ea59f479673c",
   "metadata": {},
   "outputs": [],
   "source": [
    "# Escribe tu nombre en la variable:\n",
    "nombre_y_apellidos = \"JUAN MANUEL GOMEZ\" "
   ]
  },
  {
   "cell_type": "code",
   "execution_count": 2,
   "id": "2e9f9af5-076c-44ec-9a80-95c0e99cdc58",
   "metadata": {},
   "outputs": [],
   "source": [
    "\"\"\"\n",
    "Criterios de corrección:\n",
    "\n",
    "ejecución (ausencia de errores y obtención de resultados)\n",
    "estructura del código\n",
    "uso correcto de variables\n",
    "manejo de tipo de variables\n",
    "asignaciones\n",
    "operaciones booleanas\n",
    "manejo lógico de flujos de control y bucles\n",
    "uso de colecciones\n",
    "uso de funciones\n",
    "\"\"\";\n",
    "\n",
    "# Ejemplo de como queremos ver el código para más de un intento:\n",
    "\n",
    "# intento 1\n",
    "#your code\n",
    "\n",
    "# intento 2\n",
    "#your code"
   ]
  },
  {
   "cell_type": "code",
   "execution_count": 3,
   "id": "bb16d0e3-3bb9-4f2b-944e-8fc35e628701",
   "metadata": {},
   "outputs": [],
   "source": [
    "# crea todas las celdas que necesites"
   ]
  },
  {
   "cell_type": "markdown",
   "id": "9e02b8f5-6f66-4e73-acfa-7f8c3977de2a",
   "metadata": {},
   "source": [
    "#### Notas y pruebas de apoyo para contestar las preguntas\n",
    "\n",
    "\n",
    "Cualquier código aunque no esté correcto nos dirá más de ti que no escribir nada. "
   ]
  },
  {
   "cell_type": "markdown",
   "id": "57d6b062-27f8-4377-b583-d662777b0bd7",
   "metadata": {},
   "source": [
    "__Debes subir tu examen resuelto a tu repo de GitHub cuando haya acabado este team challenge__"
   ]
  },
  {
   "cell_type": "markdown",
   "id": "062d81e8",
   "metadata": {},
   "source": [
    "#### Ejercicio 1\n",
    "\n",
    "Disponemos de una lista con información sobre varios empleados:\n",
    "\n",
    "    empleados = [[12345, \"Juan Rodríguez\", 53, [\"Director financiero\"], 2],[56789, \"Laura Pérez\", 41, [\"CEO\", \"Director\", \"Gerente\"], 2],[88354, \"Pedro Álvarez\", 26, [\"Asistente\",\"Gestor comercial\"], 3]]\n",
    "\n",
    "Respecto de cada empleado, la lista contiene cinco elementos: en el primero almacenamos su tfno, en el segundo su nombre, en el tercero su edad, en el cuarto los puestos que ha desempeñado en la empresa (en forma de lista) y en el quinto su código postal.\n",
    "\n",
    "1. Siguiendo la misma estructura, incluye un nuevo empleado en la última posición de la lista empleados.\n",
    "\n",
    "2. Mostrar por pantalla, sin uso de funciones (salvo print) ni bucles: \n",
    "\n",
    "    - El nombre y la edad del tercer empleado de la lista empleados.\n",
    "    - Los puestos desempeñados por Pedro Álvarez, ordenados de atras a adelante (es decir, de Gestor comercial a Asistente)\n",
    "    - Si el nuevo empleado que has añadido tiene más o igual a 60 años, muestra por pantalla los puestos que el nuevo empleado haya desempeñado en la empresa. En caso contrario, muestra los puestos desempeñados por Laura Pérez y Juan Rodriguez."
   ]
  },
  {
   "cell_type": "code",
   "execution_count": 19,
   "id": "ae316b4b",
   "metadata": {},
   "outputs": [
    {
     "name": "stdout",
     "output_type": "stream",
     "text": [
      "[[12345, 'Juan Rodríguez', 53, ['Director financiero'], 2], [56789, 'Laura Pérez', 41, ['CEO', 'Director', 'Gerente'], 2], [88354, 'Pedro Álvarez', 26, ['Asistente', 'Gestor comercial'], 3], [1234, 'Marina Gómez', 22, ['Asistente'], 1]]\n",
      "El nombre del tercer empleado es Pedro Álvarez y su edad 26 años\n",
      "Gestor comercial , Asistente\n",
      "Puestos de Laura Perez: ['CEO', 'Director', 'Gerente']\n",
      "Puestos de Juan Rodriguez: ['Director financiero']\n"
     ]
    }
   ],
   "source": [
    "empleados = [[12345, \"Juan Rodríguez\", 53, [\"Director financiero\"], 2],[56789, \"Laura Pérez\", 41, [\"CEO\", \"Director\", \"Gerente\"], 2],[88354, \"Pedro Álvarez\", 26, [\"Asistente\",\"Gestor comercial\"], 3]]\n",
    "\n",
    "# Punto 1\n",
    "empleados.append([1234, 'Marina Gómez', 22, ['Asistente'], 1])\n",
    "print(empleados)\n",
    "\n",
    "# Punto 2\n",
    "print(\"El nombre del tercer empleado es\", empleados[2][1], \"y su edad\", empleados[2][2],\"años\")\n",
    "print(empleados[2][3][1],\",\",empleados[2][3][0])\n",
    "if(empleados[3][2]>=60):\n",
    "    print(\"Sus puestos son: \",empleados[4][3])\n",
    "else:\n",
    "    print(\"Puestos de Laura Perez:\",empleados[1][3])\n",
    "    print(\"Puestos de Juan Rodriguez:\",empleados[0][3])\n",
    "\n",
    "\n"
   ]
  },
  {
   "cell_type": "markdown",
   "id": "4da89624-0da3-4f91-aa5c-a084c5ee1b17",
   "metadata": {},
   "source": [
    "#### Ejercicio 2. \n",
    "\n",
    "Escribe un programa que te diga si una letra es una consonante o una vocal. Crea tu propia **FUNCIÓN**\n"
   ]
  },
  {
   "cell_type": "code",
   "execution_count": 23,
   "id": "c58bf610-92de-4a5a-a00d-652279ea33dd",
   "metadata": {},
   "outputs": [
    {
     "name": "stdout",
     "output_type": "stream",
     "text": [
      "e es vocal\n"
     ]
    }
   ],
   "source": [
    "def consonante_vocal(letra):\n",
    "    if (letra in [\"a\",\"e\",\"i\",\"o\",\"u\"]):\n",
    "        print(letra,\"es vocal\")\n",
    "    else:\n",
    "        print(letra,\"es consonante\")\n",
    "\n",
    "consonante_vocal(\"e\")"
   ]
  },
  {
   "cell_type": "markdown",
   "id": "52065a6c-3d4c-44c0-a10b-958506c481b3",
   "metadata": {},
   "source": [
    "#### Ejercicio 3. \n",
    "\n",
    "Escribe un programa que calcule la edad humana de un perro.\n",
    "Tienes que pedirle al usuario la edad del perro en años.\n",
    "Si el usuario introduce un número negativo, imprime que la cifra facilitada no tiene sentido. Si el perro tiene un año, son 14 años humanos. Si tiene 2 años, son 22 años humanos.\n",
    "A partir de los 2 años, el cálculo es el siguiente: a la edad del perro se le restan 2 años, el resultado se multiplica por 5 y, finalmente, se le suma 22.\n",
    "Usa una función sin argumentos de entrada ni de salida (muestra toda la información con print())"
   ]
  },
  {
   "cell_type": "code",
   "execution_count": 27,
   "id": "9c59c801-1fe1-4a6d-a000-f85ca738ed00",
   "metadata": {},
   "outputs": [
    {
     "name": "stdin",
     "output_type": "stream",
     "text": [
      "Introduce la edad del perro 3\n"
     ]
    },
    {
     "name": "stdout",
     "output_type": "stream",
     "text": [
      "Edad humana 27\n"
     ]
    }
   ],
   "source": [
    "def edad_perruna():\n",
    "    # Preguntamos la edad\n",
    "    edad_perro = int(input(\"Introduce la edad del perro\"))\n",
    "\n",
    "    # Discriminamos que hacer\n",
    "    if (edad_perro<0):\n",
    "        print(\"La edad facilitada no tiene sentido\")\n",
    "    elif (edad_perro==1):\n",
    "        print(\"Edad humana 14\")\n",
    "    elif (edad_perro==2):\n",
    "        print(\"Edad humana 22\")\n",
    "    else:\n",
    "        print(\"Edad humana\",str((edad_perro-2)*5+22))\n",
    "\n",
    "edad_perruna()"
   ]
  },
  {
   "cell_type": "markdown",
   "id": "2991309f-4208-431a-900c-d9bc734bb936",
   "metadata": {},
   "source": [
    "#### Ejercicio 4. \n",
    "\n",
    "Escribe un programa que te diga si una frase es un pangrama. Un pangrama es una frase que contiene todas las letras del alfabeto.\n",
    "Puedes tener espacios en blanco, pero NO  tendrás signos de puntuación, a excepción de las tildes.\n",
    "\n",
    "Ejemplo de pangrama:\n",
    "\n",
    "Extraño pan de col y kiwi se quemó bajo fugaz vaho "
   ]
  },
  {
   "cell_type": "code",
   "execution_count": 35,
   "id": "9a349c1e-15ab-4253-97f8-2a07a263791d",
   "metadata": {},
   "outputs": [
    {
     "name": "stdout",
     "output_type": "stream",
     "text": [
      "True\n",
      "False\n",
      "False\n"
     ]
    }
   ],
   "source": [
    "def pangrama(frase):\n",
    "    # Generamos una lista con todas las letras que deben estar\n",
    "    letras = \"abcdefghijklmnñopqrstuvwxyz\"\n",
    "    # Inicialmente suponemos que es pangrama\n",
    "    es_pangrama = True\n",
    "    #Comprobamos que cada una de las letras de la lista \"letras\" está en la frase.\n",
    "    for letra in letras:\n",
    "        if letra in frase.lower():\n",
    "            es_pangrama = es_pangrama and True\n",
    "        else:\n",
    "            es_pangrama = False\n",
    "    return es_pangrama\n",
    "\n",
    "# Probamos con la frase ejemplo (debe devolver True)\n",
    "print(pangrama(\"Extraño pan de col y kiwi se quemó bajo fugaz vaho\"))\n",
    "# Probamos con otras frases (debe devolver False)\n",
    "print(pangrama(\"afeacelg erqkjefdl awnierja eorkela rel\"))\n",
    "print(pangrama(\"Buenas tardes\"))"
   ]
  },
  {
   "cell_type": "markdown",
   "id": "3dbb76e0-79b2-45e8-9034-58ee9cbd82bb",
   "metadata": {},
   "source": [
    "#### Ejercicio 5. \n",
    "\n",
    "Escribe un programa que use diccionarios para traducir palabras entre varios idiomas.\n",
    "Deberás pedirle al usuario una palabra por teclado, ver si está en tu diccionario. En caso de que esté, deberás mostrar la traducción de esa palabra.\n",
    "\n",
    "Ejemplo de diccionario:\n",
    "\n",
    "```python\n",
    "{\"file\": \"Fichier\", \"new\": \"Nouveau\", \"open\": \"Ouvrir\", \"save\": \"Enregistrer\", \"save as\": \"Enregistrer sous\", \"print preview\": \"Apercu avant impressioner\", \"print\": \"Imprimer\", \"close\": \"Fermer\", \"exit\": \"Quitter\"}"
   ]
  },
  {
   "cell_type": "code",
   "execution_count": 36,
   "id": "88236123-e8ac-45da-87d0-134a88a690c1",
   "metadata": {},
   "outputs": [
    {
     "name": "stdin",
     "output_type": "stream",
     "text": [
      "¿Qué palabra quieres traducir?  open\n"
     ]
    },
    {
     "name": "stdout",
     "output_type": "stream",
     "text": [
      "La traduccion es:  Ouvrir\n"
     ]
    }
   ],
   "source": [
    "diccionario = {\"file\": \"Fichier\", \"new\": \"Nouveau\", \"open\": \"Ouvrir\", \"save\": \"Enregistrer\", \"save as\": \"Enregistrer sous\", \"print preview\": \"Apercu avant impressioner\", \"print\": \"Imprimer\", \"close\": \"Fermer\", \"exit\": \"Quitter\"}\n",
    "\n",
    "palabra = input(\"¿Qué palabra quieres traducir? \")\n",
    "\n",
    "if( palabra.lower() in diccionario):\n",
    "    print(\"La traduccion es: \" , diccionario[palabra])\n",
    "else:\n",
    "    print(\"No está en el diccionario\")\n"
   ]
  },
  {
   "cell_type": "markdown",
   "id": "61967ca4-7e06-44b3-ad7b-adbc0e71671a",
   "metadata": {},
   "source": [
    "#### Ejercicio 6.\n",
    "\n",
    "Usando objetos modela un theremin (es un instrumento musical que se toca modificando el campo electromagnético, por si tenías curiosidad).\n",
    "Tendrá de atributos la marca, el modelo, el peso, la potencia y la batería.\n",
    "\n",
    "Todos los instrumentos se crean con un peso predeterminado de 500, una potencia de 50 y una batería de 200.\n",
    "\n",
    "Cuando se recarga la batería vale 200.\n",
    "\n",
    "Cuando se toca, se muestra por pantalla que está sonando y la batería disminuye 10 (no siendo nunca negativo).\n",
    "Si no hay batería, no puede sonar. Crea un instrumento, tócalo mientras quede batería, cárgalo y no lo vuelvas a tocar.\n"
   ]
  },
  {
   "cell_type": "code",
   "execution_count": 41,
   "id": "8082c8cd-03a9-478e-aa72-4ec1306e1bb2",
   "metadata": {},
   "outputs": [
    {
     "name": "stdout",
     "output_type": "stream",
     "text": [
      "El theremin modelo molon  está tocando.\n",
      "El theremin modelo molon  está tocando.\n",
      "El theremin modelo molon  está tocando.\n",
      "El theremin modelo molon  está tocando.\n",
      "El theremin modelo molon  está tocando.\n",
      "El theremin modelo molon  está tocando.\n",
      "El theremin modelo molon  está tocando.\n",
      "El theremin modelo molon  está tocando.\n",
      "El theremin modelo molon  está tocando.\n",
      "El theremin modelo molon  está tocando.\n",
      "El theremin modelo molon  está tocando.\n",
      "El theremin modelo molon  está tocando.\n",
      "El theremin modelo molon  está tocando.\n",
      "El theremin modelo molon  está tocando.\n",
      "El theremin modelo molon  está tocando.\n",
      "El theremin modelo molon  está tocando.\n",
      "El theremin modelo molon  está tocando.\n",
      "El theremin modelo molon  está tocando.\n",
      "El theremin modelo molon  está tocando.\n",
      "El theremin modelo molon  está tocando.\n",
      "El theremin modelo molon  no tiene batería.\n",
      "Batería llena.\n"
     ]
    }
   ],
   "source": [
    "class Theremin():\n",
    "    def __init__(self,marca,modelo,peso=500,potencia=50,bateria=200):\n",
    "        self.marca = marca\n",
    "        self.modelo = modelo\n",
    "        self.peso = peso\n",
    "        self.potencia = potencia\n",
    "        self.bateria = bateria\n",
    "\n",
    "    def recarga(self):\n",
    "        self.bateria = 200\n",
    "        print(\"Batería llena.\")\n",
    "\n",
    "    def toca(self):\n",
    "        self.bateria = self.bateria - 10\n",
    "        if self.bateria >= 0:\n",
    "            print(\"El theremin modelo\", self.modelo,\" está tocando.\")\n",
    "        else:\n",
    "            print(\"El theremin modelo\", self.modelo,\" no tiene batería.\")\n",
    "\n",
    "\n",
    "theremin = Theremin(\"Roland\",\"molon\")\n",
    "while theremin.bateria >= 0:\n",
    "    theremin.toca()\n",
    "theremin.recarga()\n",
    "\n",
    "    \n"
   ]
  },
  {
   "cell_type": "markdown",
   "id": "30f773b5-a6da-4446-b36b-722b2ee57730",
   "metadata": {},
   "source": [
    "#### Ejercicio 7 EXTRA, NO PUNTÚA\n",
    "Una empresa usa dos listas  para guardar la información de sus empleados. Una lista guarda el nombre del empleado y la otra guarda su salario. Escribe un programa que cree esas dos listas originalmente vacías y que a través de un menú pueda hacer lo siguiente:\n",
    "    \n",
    "Inserta 1 para añadir un nuevo empleado y su salario\n",
    "\n",
    "Inserta 2 para imprimir los nombres y salarios de todos los empleados\n",
    "\n",
    "Inserta 3 para mostrar el número de empleados\n",
    "\n",
    "Inserta 4 para imprimir los nombres de los empleados con sueldos superiores a 400000\n",
    "\n",
    "Inserta 5 para subir un 5% los sueldos por debajo de 10000\n",
    "\n",
    "Inserta 6 para mostrar el total de todos los salarios\n",
    "\n",
    "Inserta 7 para salir del programa"
   ]
  },
  {
   "cell_type": "code",
   "execution_count": 63,
   "id": "625592ac-782a-4bae-a342-3e50de8e0aa3",
   "metadata": {},
   "outputs": [
    {
     "name": "stdout",
     "output_type": "stream",
     "text": [
      "!Bienvenido!\n",
      "Inserta 1 para añadir un nuevo empleado y su salario\n",
      "Inserta 2 para imprimir los nombres y salarios de todos los empleados\n",
      "Inserta 3 para mostrar el numero de empleados\n",
      "Inserta 4 para imprimir los nombres de los empleados con sueldos superiores a 400000\n",
      "Inserta 5 para subir un 5% los sueldos por debajo de 10000\n",
      "Inserta 6 para mostrar el total de todos los salarios\n",
      "Inserta 7 para salir del programa\n"
     ]
    },
    {
     "name": "stdin",
     "output_type": "stream",
     "text": [
      " 1\n",
      "Introduce el empleado Juan\n",
      "Introduce el salario 400001\n"
     ]
    },
    {
     "name": "stdout",
     "output_type": "stream",
     "text": [
      "!Bienvenido!\n",
      "Inserta 1 para añadir un nuevo empleado y su salario\n",
      "Inserta 2 para imprimir los nombres y salarios de todos los empleados\n",
      "Inserta 3 para mostrar el numero de empleados\n",
      "Inserta 4 para imprimir los nombres de los empleados con sueldos superiores a 400000\n",
      "Inserta 5 para subir un 5% los sueldos por debajo de 10000\n",
      "Inserta 6 para mostrar el total de todos los salarios\n",
      "Inserta 7 para salir del programa\n"
     ]
    },
    {
     "name": "stdin",
     "output_type": "stream",
     "text": [
      " 1\n",
      "Introduce el empleado Maria\n",
      "Introduce el salario 900\n"
     ]
    },
    {
     "name": "stdout",
     "output_type": "stream",
     "text": [
      "!Bienvenido!\n",
      "Inserta 1 para añadir un nuevo empleado y su salario\n",
      "Inserta 2 para imprimir los nombres y salarios de todos los empleados\n",
      "Inserta 3 para mostrar el numero de empleados\n",
      "Inserta 4 para imprimir los nombres de los empleados con sueldos superiores a 400000\n",
      "Inserta 5 para subir un 5% los sueldos por debajo de 10000\n",
      "Inserta 6 para mostrar el total de todos los salarios\n",
      "Inserta 7 para salir del programa\n"
     ]
    },
    {
     "name": "stdin",
     "output_type": "stream",
     "text": [
      " 2\n"
     ]
    },
    {
     "name": "stdout",
     "output_type": "stream",
     "text": [
      "Juan 400001.0\n",
      "Maria 900.0\n",
      "!Bienvenido!\n",
      "Inserta 1 para añadir un nuevo empleado y su salario\n",
      "Inserta 2 para imprimir los nombres y salarios de todos los empleados\n",
      "Inserta 3 para mostrar el numero de empleados\n",
      "Inserta 4 para imprimir los nombres de los empleados con sueldos superiores a 400000\n",
      "Inserta 5 para subir un 5% los sueldos por debajo de 10000\n",
      "Inserta 6 para mostrar el total de todos los salarios\n",
      "Inserta 7 para salir del programa\n"
     ]
    },
    {
     "name": "stdin",
     "output_type": "stream",
     "text": [
      " 3\n"
     ]
    },
    {
     "name": "stdout",
     "output_type": "stream",
     "text": [
      "2\n",
      "!Bienvenido!\n",
      "Inserta 1 para añadir un nuevo empleado y su salario\n",
      "Inserta 2 para imprimir los nombres y salarios de todos los empleados\n",
      "Inserta 3 para mostrar el numero de empleados\n",
      "Inserta 4 para imprimir los nombres de los empleados con sueldos superiores a 400000\n",
      "Inserta 5 para subir un 5% los sueldos por debajo de 10000\n",
      "Inserta 6 para mostrar el total de todos los salarios\n",
      "Inserta 7 para salir del programa\n"
     ]
    },
    {
     "name": "stdin",
     "output_type": "stream",
     "text": [
      " 4\n"
     ]
    },
    {
     "name": "stdout",
     "output_type": "stream",
     "text": [
      "Juan\n",
      "!Bienvenido!\n",
      "Inserta 1 para añadir un nuevo empleado y su salario\n",
      "Inserta 2 para imprimir los nombres y salarios de todos los empleados\n",
      "Inserta 3 para mostrar el numero de empleados\n",
      "Inserta 4 para imprimir los nombres de los empleados con sueldos superiores a 400000\n",
      "Inserta 5 para subir un 5% los sueldos por debajo de 10000\n",
      "Inserta 6 para mostrar el total de todos los salarios\n",
      "Inserta 7 para salir del programa\n"
     ]
    },
    {
     "name": "stdin",
     "output_type": "stream",
     "text": [
      " 5\n"
     ]
    },
    {
     "name": "stdout",
     "output_type": "stream",
     "text": [
      "!Bienvenido!\n",
      "Inserta 1 para añadir un nuevo empleado y su salario\n",
      "Inserta 2 para imprimir los nombres y salarios de todos los empleados\n",
      "Inserta 3 para mostrar el numero de empleados\n",
      "Inserta 4 para imprimir los nombres de los empleados con sueldos superiores a 400000\n",
      "Inserta 5 para subir un 5% los sueldos por debajo de 10000\n",
      "Inserta 6 para mostrar el total de todos los salarios\n",
      "Inserta 7 para salir del programa\n"
     ]
    },
    {
     "name": "stdin",
     "output_type": "stream",
     "text": [
      " 2\n"
     ]
    },
    {
     "name": "stdout",
     "output_type": "stream",
     "text": [
      "Juan 400001.0\n",
      "Maria 945.0\n",
      "!Bienvenido!\n",
      "Inserta 1 para añadir un nuevo empleado y su salario\n",
      "Inserta 2 para imprimir los nombres y salarios de todos los empleados\n",
      "Inserta 3 para mostrar el numero de empleados\n",
      "Inserta 4 para imprimir los nombres de los empleados con sueldos superiores a 400000\n",
      "Inserta 5 para subir un 5% los sueldos por debajo de 10000\n",
      "Inserta 6 para mostrar el total de todos los salarios\n",
      "Inserta 7 para salir del programa\n"
     ]
    },
    {
     "name": "stdin",
     "output_type": "stream",
     "text": [
      " 6\n"
     ]
    },
    {
     "name": "stdout",
     "output_type": "stream",
     "text": [
      "El total de los salarios es: 400946.0\n",
      "!Bienvenido!\n",
      "Inserta 1 para añadir un nuevo empleado y su salario\n",
      "Inserta 2 para imprimir los nombres y salarios de todos los empleados\n",
      "Inserta 3 para mostrar el numero de empleados\n",
      "Inserta 4 para imprimir los nombres de los empleados con sueldos superiores a 400000\n",
      "Inserta 5 para subir un 5% los sueldos por debajo de 10000\n",
      "Inserta 6 para mostrar el total de todos los salarios\n",
      "Inserta 7 para salir del programa\n"
     ]
    },
    {
     "name": "stdin",
     "output_type": "stream",
     "text": [
      " 7\n"
     ]
    },
    {
     "name": "stdout",
     "output_type": "stream",
     "text": [
      "Has salido del programa\n"
     ]
    }
   ],
   "source": [
    "class Empresa():\n",
    "\n",
    "    def __init__(self):\n",
    "        self.empleados = []\n",
    "        self.salarios = []\n",
    "        \n",
    "    def bienvenida(self):\n",
    "        print(\"!Bienvenido!\")\n",
    "        print(\"Inserta 1 para añadir un nuevo empleado y su salario\")\n",
    "        print(\"Inserta 2 para imprimir los nombres y salarios de todos los empleados\")\n",
    "        print(\"Inserta 3 para mostrar el numero de empleados\")\n",
    "        print(\"Inserta 4 para imprimir los nombres de los empleados con sueldos superiores a 400000\")\n",
    "        print(\"Inserta 5 para subir un 5% los sueldos por debajo de 10000\")\n",
    "        print(\"Inserta 6 para mostrar el total de todos los salarios\")\n",
    "        print(\"Inserta 7 para salir del programa\")\n",
    "        seleccion = int(input())\n",
    "        return seleccion\n",
    "    \n",
    "    def introduce(self):\n",
    "        nombre = input(\"Introduce el empleado\")\n",
    "        cantidad = float(input(\"Introduce el salario\"))\n",
    "        self.empleados.append(nombre)\n",
    "        self.salarios.append(cantidad)\n",
    "\n",
    "    def nombres(self):\n",
    "        for indice,nombre in enumerate(self.empleados):\n",
    "            print(nombre, self.salarios[indice])\n",
    "\n",
    "    def cantidad_empleados(self):\n",
    "        cuantos = len(self.empleados)\n",
    "        print(cuantos)\n",
    "\n",
    "    def empleados_sobre_400000(self):\n",
    "        for indice,salario in enumerate(self.salarios):\n",
    "            if salario > 400000:\n",
    "                print(self.empleados[indice])\n",
    "                \n",
    "    def sube_bajo_1000(self):\n",
    "        for indice,salario in enumerate(self.salarios):\n",
    "            if salario < 1000:\n",
    "                self.salarios[indice] = salario + (salario*5)/100\n",
    "\n",
    "    def total_salarios(self):\n",
    "        print(\"El total de los salarios es:\",sum(self.salarios))\n",
    "\n",
    "    def salir(self):\n",
    "        print(\"Has salido del programa\")\n",
    "                \n",
    "\n",
    "empresa = Empresa()\n",
    "seleccion = 0\n",
    "while seleccion != 7:\n",
    "    seleccion = empresa.bienvenida()\n",
    "    if (seleccion == 1):\n",
    "        empresa.introduce()\n",
    "    elif (seleccion == 2):\n",
    "        empresa.nombres()\n",
    "    elif (seleccion == 3):\n",
    "        empresa.cantidad_empleados()\n",
    "    elif (seleccion == 4):\n",
    "        empresa.empleados_sobre_400000()\n",
    "    elif (seleccion == 5):\n",
    "        empresa.sube_bajo_1000()\n",
    "    elif (seleccion == 6):\n",
    "        empresa.total_salarios()\n",
    "    elif (seleccion == 7):\n",
    "        empresa.salir()\n",
    "    \n",
    "\n",
    "    "
   ]
  },
  {
   "cell_type": "code",
   "execution_count": 11,
   "id": "67858e27-b7f5-4e05-bc50-3fca698ad22a",
   "metadata": {},
   "outputs": [
    {
     "name": "stdout",
     "output_type": "stream",
     "text": [
      "\n",
      "\n",
      "¡Bienvenido!\n",
      "\n",
      "Inserta 1 para añadir un nuevo empleado y su salario\n",
      "Inserta 2 para imprimir los nombres y salarios de todos los empleados\n",
      "Inserta 3 para mostrar el número de empleados\n",
      "Inserta 4 para imprimir los nombres de los empleados con sueldos superiores a 400000\n",
      "Inserta 5 para subir un 5% los sueldos por debajo de 10000\n",
      "Inserta 6 para mostrar el total de todos los salarios\n",
      "Inserta 7 para salir del programa\n",
      "\n",
      "    \n",
      "\n",
      "Suma de todos los sueldos:  10000\n",
      "\n",
      "Cantidad de empleados:  1\n",
      "\n",
      "¡Gracias por usar el programa!\n"
     ]
    }
   ],
   "source": [
    "empleados = []\n",
    "salarios = []\n",
    "\n",
    "print(\"!Bienvenido!)\n",
    "      "
   ]
  },
  {
   "cell_type": "markdown",
   "id": "e33a0e21-476e-4103-b889-a6b3e76b99f3",
   "metadata": {},
   "source": [
    "\n",
    "####  Ejercicio 8, EXTRA, NO PUNTÚA.\n",
    "\n",
    "Escribe un programa que __USE RECURSIVIDAD__ para decidir cuál es la película de Pixar favorita de un usuario.\n",
    "El programa preguntará al usuario cuál de 2 películas es su favorita, y con esa favorita se le volverá a preguntar entre esa y otra película cuál es su favorita...y así hasta que el usuario haya decidido de entre todas cuál es su favorita.\n",
    "\n",
    "Pista: si no quieres cambiar una lista, usa copy() y tendrás una copia que es otro objeto\n",
    "\n"
   ]
  },
  {
   "cell_type": "code",
   "execution_count": 74,
   "id": "c9936fd4-6d29-4535-9f34-a6f289d18d8b",
   "metadata": {},
   "outputs": [
    {
     "name": "stdout",
     "output_type": "stream",
     "text": [
      "Que peli prefieres?¿ Toy Story o Soul ?\n"
     ]
    },
    {
     "name": "stdin",
     "output_type": "stream",
     "text": [
      " Toy Story\n"
     ]
    },
    {
     "name": "stdout",
     "output_type": "stream",
     "text": [
      "['Soul', 'Up', 'Coco', 'Luca', 'Monsters', 'Inside Out', 'WallE', 'Buscando a Nemo', 'Los Increíbles']\n",
      "Que peli prefieres?¿ Soul o Up ?\n"
     ]
    },
    {
     "name": "stdin",
     "output_type": "stream",
     "text": [
      " Soul\n"
     ]
    },
    {
     "name": "stdout",
     "output_type": "stream",
     "text": [
      "['Up', 'Coco', 'Luca', 'Monsters', 'Inside Out', 'WallE', 'Buscando a Nemo', 'Los Increíbles']\n",
      "Que peli prefieres?¿ Up o Coco ?\n"
     ]
    },
    {
     "name": "stdin",
     "output_type": "stream",
     "text": [
      " Up\n"
     ]
    },
    {
     "name": "stdout",
     "output_type": "stream",
     "text": [
      "['Coco', 'Luca', 'Monsters', 'Inside Out', 'WallE', 'Buscando a Nemo', 'Los Increíbles']\n",
      "Que peli prefieres?¿ Coco o Luca ?\n"
     ]
    },
    {
     "name": "stdin",
     "output_type": "stream",
     "text": [
      " Coco\n"
     ]
    },
    {
     "name": "stdout",
     "output_type": "stream",
     "text": [
      "['Luca', 'Monsters', 'Inside Out', 'WallE', 'Buscando a Nemo', 'Los Increíbles']\n",
      "Que peli prefieres?¿ Luca o Monsters ?\n"
     ]
    },
    {
     "name": "stdin",
     "output_type": "stream",
     "text": [
      " Luca\n"
     ]
    },
    {
     "name": "stdout",
     "output_type": "stream",
     "text": [
      "['Monsters', 'Inside Out', 'WallE', 'Buscando a Nemo', 'Los Increíbles']\n",
      "Que peli prefieres?¿ Monsters o Inside Out ?\n"
     ]
    },
    {
     "name": "stdin",
     "output_type": "stream",
     "text": [
      " Monsters\n"
     ]
    },
    {
     "name": "stdout",
     "output_type": "stream",
     "text": [
      "['Inside Out', 'WallE', 'Buscando a Nemo', 'Los Increíbles']\n",
      "Que peli prefieres?¿ Inside Out o WallE ?\n"
     ]
    },
    {
     "name": "stdin",
     "output_type": "stream",
     "text": [
      " Inside Out\n"
     ]
    },
    {
     "name": "stdout",
     "output_type": "stream",
     "text": [
      "['WallE', 'Buscando a Nemo', 'Los Increíbles']\n",
      "Que peli prefieres?¿ WallE o Buscando a Nemo ?\n"
     ]
    },
    {
     "name": "stdin",
     "output_type": "stream",
     "text": [
      " WallE\n"
     ]
    },
    {
     "name": "stdout",
     "output_type": "stream",
     "text": [
      "['Buscando a Nemo', 'Los Increíbles']\n",
      "Que peli prefieres?¿ Buscando a Nemo o Los Increíbles ?\n"
     ]
    },
    {
     "name": "stdin",
     "output_type": "stream",
     "text": [
      " Buscando a Nemo\n"
     ]
    },
    {
     "name": "stdout",
     "output_type": "stream",
     "text": [
      "['Los Increíbles']\n",
      "Tu pelicula favorita es, Los Increíbles\n"
     ]
    }
   ],
   "source": [
    "lista = [\"Toy Story\",\"Soul\",\"Up\",\"Coco\",\"Luca\",\"Monsters\",\"Inside Out\",\"WallE\",\"Buscando a Nemo\",\"Los Increíbles\"]\n",
    "otra = []\n",
    "\n",
    "def elige(lista):\n",
    "    peli1  = lista[0]\n",
    "    peli2  = lista[1]\n",
    "    print(\"Que peli prefieres?¿\",peli1, \"o\", peli2,\"?\")\n",
    "    peli = input()\n",
    "    lista.remove(peli)\n",
    "    return lista\n",
    "\n",
    "while len(lista)>=2:\n",
    "    lista = elige(lista)\n",
    "    print(lista)\n",
    "\n",
    "print(\"Tu pelicula favorita es,\",lista[0])\n",
    "\n",
    "\n",
    "            "
   ]
  },
  {
   "cell_type": "code",
   "execution_count": null,
   "id": "e0264a74-638f-4a82-95a0-cddee11253b7",
   "metadata": {},
   "outputs": [],
   "source": []
  },
  {
   "cell_type": "code",
   "execution_count": 1,
   "id": "10a7b881",
   "metadata": {},
   "outputs": [],
   "source": [
    "# FIN DEL EXAMEN\n",
    "\n"
   ]
  }
 ],
 "metadata": {
  "kernelspec": {
   "display_name": "Python 3 (ipykernel)",
   "language": "python",
   "name": "python3"
  },
  "language_info": {
   "codemirror_mode": {
    "name": "ipython",
    "version": 3
   },
   "file_extension": ".py",
   "mimetype": "text/x-python",
   "name": "python",
   "nbconvert_exporter": "python",
   "pygments_lexer": "ipython3",
   "version": "3.12.3"
  },
  "vscode": {
   "interpreter": {
    "hash": "252189e587d1e2aeba4a06e91fa71896c7a7f6e22e918b9407c7cde4ef2d5985"
   }
  }
 },
 "nbformat": 4,
 "nbformat_minor": 5
}
